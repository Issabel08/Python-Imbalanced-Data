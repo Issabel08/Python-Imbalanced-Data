{
 "cells": [
  {
   "cell_type": "markdown",
   "metadata": {},
   "source": [
    "### Classification"
   ]
  },
  {
   "cell_type": "code",
   "execution_count": 1,
   "metadata": {},
   "outputs": [],
   "source": [
    "import warnings\n",
    "warnings.filterwarnings(\"ignore\")"
   ]
  },
  {
   "cell_type": "code",
   "execution_count": 2,
   "metadata": {},
   "outputs": [],
   "source": [
    "import numpy as np\n",
    "import pandas as pd\n",
    "import matplotlib\n",
    "import matplotlib.pyplot as plt\n",
    "from matplotlib import cm\n",
    "\n",
    "%matplotlib inline\n",
    "matplotlib.rcParams['figure.figsize'] = [8,8]\n",
    "np.random.seed(42)"
   ]
  },
  {
   "cell_type": "markdown",
   "metadata": {},
   "source": [
    "**Import Data**"
   ]
  },
  {
   "cell_type": "markdown",
   "metadata": {},
   "source": [
    "\"100 volunteers provide a semen sample analyzed according to the WHO 2010 criteria. Sperm concentration are related to socio-demographic data, environmental factors, health status, and life habits\"\n",
    "\n",
    "link:https://archive.ics.uci.edu/ml/datasets/Fertility"
   ]
  },
  {
   "cell_type": "markdown",
   "metadata": {},
   "source": [
    "Attribute Information:\n",
    "\n",
    "    - Season in which the analysis was performed. 1) winter, 2) spring, 3) Summer, 4) fall. (-1, -0.33, 0.33, 1)\n",
    "\n",
    "    - Age at the time of analysis. 18-36 (0, 1)\n",
    "\n",
    "    - Childish diseases (ie , chicken pox, measles, mumps, polio) 1) yes, 2) no. (0, 1)\n",
    "\n",
    "    - Accident or serious trauma 1) yes, 2) no. (0, 1)\n",
    "\n",
    "    - Surgical intervention 1) yes, 2) no. (0, 1)\n",
    "\n",
    "    - High fevers in the last year 1) less than three months ago, 2) more than three months ago, 3) no. (-1, 0, 1)\n",
    "\n",
    "    - Frequency of alcohol consumption 1) several times a day, 2) every day, 3) several times a week, 4) once a week, 5) hardly ever or never (0, 1)\n",
    "\n",
    "    - Smoking habit 1) never, 2) occasional 3) daily. (-1, 0, 1)\n",
    "\n",
    "    - Number of hours spent sitting per day ene-16 (0, 1)\n",
    "\n",
    "    - Output: Diagnosis normal (N), altered (O)"
   ]
  },
  {
   "cell_type": "code",
   "execution_count": 3,
   "metadata": {},
   "outputs": [],
   "source": [
    "df=pd.read_csv('data/fertility.csv',header=None) "
   ]
  },
  {
   "cell_type": "code",
   "execution_count": 4,
   "metadata": {},
   "outputs": [
    {
     "data": {
      "text/html": [
       "<div>\n",
       "<style scoped>\n",
       "    .dataframe tbody tr th:only-of-type {\n",
       "        vertical-align: middle;\n",
       "    }\n",
       "\n",
       "    .dataframe tbody tr th {\n",
       "        vertical-align: top;\n",
       "    }\n",
       "\n",
       "    .dataframe thead th {\n",
       "        text-align: right;\n",
       "    }\n",
       "</style>\n",
       "<table border=\"1\" class=\"dataframe\">\n",
       "  <thead>\n",
       "    <tr style=\"text-align: right;\">\n",
       "      <th></th>\n",
       "      <th>season</th>\n",
       "      <th>age</th>\n",
       "      <th>childish_diseases</th>\n",
       "      <th>accident</th>\n",
       "      <th>surgical_intervention</th>\n",
       "      <th>high_fevers</th>\n",
       "      <th>frequency_alcohol_consumption</th>\n",
       "      <th>smoking</th>\n",
       "      <th>hours_spent_sitting</th>\n",
       "      <th>output</th>\n",
       "    </tr>\n",
       "  </thead>\n",
       "  <tbody>\n",
       "    <tr>\n",
       "      <th>0</th>\n",
       "      <td>-0.33</td>\n",
       "      <td>0.69</td>\n",
       "      <td>0</td>\n",
       "      <td>1</td>\n",
       "      <td>1</td>\n",
       "      <td>0</td>\n",
       "      <td>0.8</td>\n",
       "      <td>0</td>\n",
       "      <td>0.88</td>\n",
       "      <td>N</td>\n",
       "    </tr>\n",
       "    <tr>\n",
       "      <th>1</th>\n",
       "      <td>-0.33</td>\n",
       "      <td>0.94</td>\n",
       "      <td>1</td>\n",
       "      <td>0</td>\n",
       "      <td>1</td>\n",
       "      <td>0</td>\n",
       "      <td>0.8</td>\n",
       "      <td>1</td>\n",
       "      <td>0.31</td>\n",
       "      <td>O</td>\n",
       "    </tr>\n",
       "    <tr>\n",
       "      <th>2</th>\n",
       "      <td>-0.33</td>\n",
       "      <td>0.50</td>\n",
       "      <td>1</td>\n",
       "      <td>0</td>\n",
       "      <td>0</td>\n",
       "      <td>0</td>\n",
       "      <td>1.0</td>\n",
       "      <td>-1</td>\n",
       "      <td>0.50</td>\n",
       "      <td>N</td>\n",
       "    </tr>\n",
       "    <tr>\n",
       "      <th>3</th>\n",
       "      <td>-0.33</td>\n",
       "      <td>0.75</td>\n",
       "      <td>0</td>\n",
       "      <td>1</td>\n",
       "      <td>1</td>\n",
       "      <td>0</td>\n",
       "      <td>1.0</td>\n",
       "      <td>-1</td>\n",
       "      <td>0.38</td>\n",
       "      <td>N</td>\n",
       "    </tr>\n",
       "    <tr>\n",
       "      <th>4</th>\n",
       "      <td>-0.33</td>\n",
       "      <td>0.67</td>\n",
       "      <td>1</td>\n",
       "      <td>1</td>\n",
       "      <td>0</td>\n",
       "      <td>0</td>\n",
       "      <td>0.8</td>\n",
       "      <td>-1</td>\n",
       "      <td>0.50</td>\n",
       "      <td>O</td>\n",
       "    </tr>\n",
       "  </tbody>\n",
       "</table>\n",
       "</div>"
      ],
      "text/plain": [
       "   season   age  childish_diseases  accident  surgical_intervention  \\\n",
       "0   -0.33  0.69                  0         1                      1   \n",
       "1   -0.33  0.94                  1         0                      1   \n",
       "2   -0.33  0.50                  1         0                      0   \n",
       "3   -0.33  0.75                  0         1                      1   \n",
       "4   -0.33  0.67                  1         1                      0   \n",
       "\n",
       "   high_fevers  frequency_alcohol_consumption  smoking  hours_spent_sitting  \\\n",
       "0            0                            0.8        0                 0.88   \n",
       "1            0                            0.8        1                 0.31   \n",
       "2            0                            1.0       -1                 0.50   \n",
       "3            0                            1.0       -1                 0.38   \n",
       "4            0                            0.8       -1                 0.50   \n",
       "\n",
       "  output  \n",
       "0      N  \n",
       "1      O  \n",
       "2      N  \n",
       "3      N  \n",
       "4      O  "
      ]
     },
     "execution_count": 4,
     "metadata": {},
     "output_type": "execute_result"
    }
   ],
   "source": [
    "df=df.rename(columns={\n",
    "    0:'season',\n",
    "    1:'age',\n",
    "    2:'childish_diseases',\n",
    "    3:'accident',\n",
    "    4:'surgical_intervention',\n",
    "    5:'high_fevers',\n",
    "    6:'frequency_alcohol_consumption',\n",
    "    7:'smoking',\n",
    "    8:'hours_spent_sitting',\n",
    "    9:'output'\n",
    "})\n",
    "df.head()"
   ]
  },
  {
   "cell_type": "markdown",
   "metadata": {},
   "source": [
    "classes distribution: Imbalanced Data"
   ]
  },
  {
   "cell_type": "code",
   "execution_count": 5,
   "metadata": {},
   "outputs": [
    {
     "data": {
      "text/plain": [
       "1    88\n",
       "0    12\n",
       "Name: output, dtype: int64"
      ]
     },
     "execution_count": 5,
     "metadata": {},
     "output_type": "execute_result"
    }
   ],
   "source": [
    "targets=df['output'].replace('N',1).replace('O',0)\n",
    "y=df['output'].replace('N',1).replace('O',0)#.replace('N',1).replace('O',0)\n",
    "y.value_counts() #Imbalanced Data"
   ]
  },
  {
   "cell_type": "code",
   "execution_count": 6,
   "metadata": {},
   "outputs": [
    {
     "data": {
      "text/html": [
       "<div>\n",
       "<style scoped>\n",
       "    .dataframe tbody tr th:only-of-type {\n",
       "        vertical-align: middle;\n",
       "    }\n",
       "\n",
       "    .dataframe tbody tr th {\n",
       "        vertical-align: top;\n",
       "    }\n",
       "\n",
       "    .dataframe thead th {\n",
       "        text-align: right;\n",
       "    }\n",
       "</style>\n",
       "<table border=\"1\" class=\"dataframe\">\n",
       "  <thead>\n",
       "    <tr style=\"text-align: right;\">\n",
       "      <th></th>\n",
       "      <th>season</th>\n",
       "      <th>age</th>\n",
       "      <th>childish_diseases</th>\n",
       "      <th>accident</th>\n",
       "      <th>surgical_intervention</th>\n",
       "      <th>high_fevers</th>\n",
       "      <th>frequency_alcohol_consumption</th>\n",
       "      <th>smoking</th>\n",
       "      <th>hours_spent_sitting</th>\n",
       "    </tr>\n",
       "  </thead>\n",
       "  <tbody>\n",
       "    <tr>\n",
       "      <th>0</th>\n",
       "      <td>-0.33</td>\n",
       "      <td>0.69</td>\n",
       "      <td>0</td>\n",
       "      <td>1</td>\n",
       "      <td>1</td>\n",
       "      <td>0</td>\n",
       "      <td>0.8</td>\n",
       "      <td>0</td>\n",
       "      <td>0.88</td>\n",
       "    </tr>\n",
       "    <tr>\n",
       "      <th>1</th>\n",
       "      <td>-0.33</td>\n",
       "      <td>0.94</td>\n",
       "      <td>1</td>\n",
       "      <td>0</td>\n",
       "      <td>1</td>\n",
       "      <td>0</td>\n",
       "      <td>0.8</td>\n",
       "      <td>1</td>\n",
       "      <td>0.31</td>\n",
       "    </tr>\n",
       "    <tr>\n",
       "      <th>2</th>\n",
       "      <td>-0.33</td>\n",
       "      <td>0.50</td>\n",
       "      <td>1</td>\n",
       "      <td>0</td>\n",
       "      <td>0</td>\n",
       "      <td>0</td>\n",
       "      <td>1.0</td>\n",
       "      <td>-1</td>\n",
       "      <td>0.50</td>\n",
       "    </tr>\n",
       "    <tr>\n",
       "      <th>3</th>\n",
       "      <td>-0.33</td>\n",
       "      <td>0.75</td>\n",
       "      <td>0</td>\n",
       "      <td>1</td>\n",
       "      <td>1</td>\n",
       "      <td>0</td>\n",
       "      <td>1.0</td>\n",
       "      <td>-1</td>\n",
       "      <td>0.38</td>\n",
       "    </tr>\n",
       "    <tr>\n",
       "      <th>4</th>\n",
       "      <td>-0.33</td>\n",
       "      <td>0.67</td>\n",
       "      <td>1</td>\n",
       "      <td>1</td>\n",
       "      <td>0</td>\n",
       "      <td>0</td>\n",
       "      <td>0.8</td>\n",
       "      <td>-1</td>\n",
       "      <td>0.50</td>\n",
       "    </tr>\n",
       "  </tbody>\n",
       "</table>\n",
       "</div>"
      ],
      "text/plain": [
       "   season   age  childish_diseases  accident  surgical_intervention  \\\n",
       "0   -0.33  0.69                  0         1                      1   \n",
       "1   -0.33  0.94                  1         0                      1   \n",
       "2   -0.33  0.50                  1         0                      0   \n",
       "3   -0.33  0.75                  0         1                      1   \n",
       "4   -0.33  0.67                  1         1                      0   \n",
       "\n",
       "   high_fevers  frequency_alcohol_consumption  smoking  hours_spent_sitting  \n",
       "0            0                            0.8        0                 0.88  \n",
       "1            0                            0.8        1                 0.31  \n",
       "2            0                            1.0       -1                 0.50  \n",
       "3            0                            1.0       -1                 0.38  \n",
       "4            0                            0.8       -1                 0.50  "
      ]
     },
     "execution_count": 6,
     "metadata": {},
     "output_type": "execute_result"
    }
   ],
   "source": [
    "df_new=df.drop('output',axis=1)\n",
    "df_new.head()"
   ]
  },
  {
   "cell_type": "markdown",
   "metadata": {},
   "source": [
    "### Modeling"
   ]
  },
  {
   "cell_type": "markdown",
   "metadata": {},
   "source": [
    "**Scaling data**"
   ]
  },
  {
   "cell_type": "code",
   "execution_count": 7,
   "metadata": {},
   "outputs": [
    {
     "data": {
      "text/html": [
       "<div>\n",
       "<style scoped>\n",
       "    .dataframe tbody tr th:only-of-type {\n",
       "        vertical-align: middle;\n",
       "    }\n",
       "\n",
       "    .dataframe tbody tr th {\n",
       "        vertical-align: top;\n",
       "    }\n",
       "\n",
       "    .dataframe thead th {\n",
       "        text-align: right;\n",
       "    }\n",
       "</style>\n",
       "<table border=\"1\" class=\"dataframe\">\n",
       "  <thead>\n",
       "    <tr style=\"text-align: right;\">\n",
       "      <th></th>\n",
       "      <th>0</th>\n",
       "      <th>1</th>\n",
       "      <th>2</th>\n",
       "      <th>3</th>\n",
       "      <th>4</th>\n",
       "      <th>5</th>\n",
       "      <th>6</th>\n",
       "      <th>7</th>\n",
       "      <th>8</th>\n",
       "    </tr>\n",
       "  </thead>\n",
       "  <tbody>\n",
       "    <tr>\n",
       "      <th>0</th>\n",
       "      <td>-0.316753</td>\n",
       "      <td>0.173970</td>\n",
       "      <td>-2.586949</td>\n",
       "      <td>1.128152</td>\n",
       "      <td>0.980196</td>\n",
       "      <td>-0.32881</td>\n",
       "      <td>-0.192006</td>\n",
       "      <td>0.434959</td>\n",
       "      <td>2.551481</td>\n",
       "    </tr>\n",
       "    <tr>\n",
       "      <th>1</th>\n",
       "      <td>-0.316753</td>\n",
       "      <td>2.245043</td>\n",
       "      <td>0.386556</td>\n",
       "      <td>-0.886405</td>\n",
       "      <td>0.980196</td>\n",
       "      <td>-0.32881</td>\n",
       "      <td>-0.192006</td>\n",
       "      <td>1.677698</td>\n",
       "      <td>-0.521943</td>\n",
       "    </tr>\n",
       "    <tr>\n",
       "      <th>2</th>\n",
       "      <td>-0.316753</td>\n",
       "      <td>-1.400045</td>\n",
       "      <td>0.386556</td>\n",
       "      <td>-0.886405</td>\n",
       "      <td>-1.020204</td>\n",
       "      <td>-0.32881</td>\n",
       "      <td>1.008032</td>\n",
       "      <td>-0.807781</td>\n",
       "      <td>0.502532</td>\n",
       "    </tr>\n",
       "    <tr>\n",
       "      <th>3</th>\n",
       "      <td>-0.316753</td>\n",
       "      <td>0.671028</td>\n",
       "      <td>-2.586949</td>\n",
       "      <td>1.128152</td>\n",
       "      <td>0.980196</td>\n",
       "      <td>-0.32881</td>\n",
       "      <td>1.008032</td>\n",
       "      <td>-0.807781</td>\n",
       "      <td>-0.144505</td>\n",
       "    </tr>\n",
       "    <tr>\n",
       "      <th>4</th>\n",
       "      <td>-0.316753</td>\n",
       "      <td>0.008284</td>\n",
       "      <td>0.386556</td>\n",
       "      <td>1.128152</td>\n",
       "      <td>-1.020204</td>\n",
       "      <td>-0.32881</td>\n",
       "      <td>-0.192006</td>\n",
       "      <td>-0.807781</td>\n",
       "      <td>0.502532</td>\n",
       "    </tr>\n",
       "  </tbody>\n",
       "</table>\n",
       "</div>"
      ],
      "text/plain": [
       "          0         1         2         3         4        5         6  \\\n",
       "0 -0.316753  0.173970 -2.586949  1.128152  0.980196 -0.32881 -0.192006   \n",
       "1 -0.316753  2.245043  0.386556 -0.886405  0.980196 -0.32881 -0.192006   \n",
       "2 -0.316753 -1.400045  0.386556 -0.886405 -1.020204 -0.32881  1.008032   \n",
       "3 -0.316753  0.671028 -2.586949  1.128152  0.980196 -0.32881  1.008032   \n",
       "4 -0.316753  0.008284  0.386556  1.128152 -1.020204 -0.32881 -0.192006   \n",
       "\n",
       "          7         8  \n",
       "0  0.434959  2.551481  \n",
       "1  1.677698 -0.521943  \n",
       "2 -0.807781  0.502532  \n",
       "3 -0.807781 -0.144505  \n",
       "4 -0.807781  0.502532  "
      ]
     },
     "execution_count": 7,
     "metadata": {},
     "output_type": "execute_result"
    }
   ],
   "source": [
    "from sklearn.preprocessing import StandardScaler\n",
    "\n",
    "scaler = StandardScaler()\n",
    "scaler.fit(df_new)\n",
    "df_scaled=pd.DataFrame(scaler.transform(df_new))\n",
    "\n",
    "df_scaled.head()"
   ]
  },
  {
   "cell_type": "markdown",
   "metadata": {},
   "source": [
    "**Training**"
   ]
  },
  {
   "cell_type": "code",
   "execution_count": 8,
   "metadata": {},
   "outputs": [],
   "source": [
    "from sklearn.ensemble import RandomForestClassifier\n",
    "from sklearn.naive_bayes import BernoulliNB\n",
    "from sklearn.model_selection import train_test_split\n",
    "from sklearn.metrics import f1_score, accuracy_score, recall_score\n",
    "\n",
    "#training a BernoulliNB() with different split data values\n",
    "def train_validation_plot(df,y,mode,X_test,y_test,algorithm):\n",
    "    if mode=='split': #use train_test_split fucntion\n",
    "        X_train, X_test, y_train, y_test = train_test_split(df, y, test_size=0.3, random_state=0)\n",
    "    elif mode=='false': #use the extern values for train and test\n",
    "        X_train=df\n",
    "        y_train=y\n",
    "    \n",
    "\n",
    "    if algorithm=='RandomForestC':\n",
    "        clf = RandomForestClassifier(n_estimators=10,random_state=0)\n",
    "    else:\n",
    "        clf=BernoulliNB()\n",
    "        \n",
    "    #class distributions of y_test\n",
    "    num_positives=y_test.value_counts()[1]\n",
    "    num_negatives=y_test.value_counts()[0]\n",
    "    print('\\nTest data: Examples positives: {} and Examples negatives: {}'.format(num_positives,num_negatives))\n",
    "    \n",
    "    clf.fit(X_train,y_train)    \n",
    "    pred=clf.predict(X_test)\n",
    "    #scores\n",
    "    print('f1_score: ', f1_score(y_test,pred))\n",
    "    print('accuracy_score: ', accuracy_score(y_test,pred))\n",
    "    print('recall_score: ', recall_score(y_test,pred))\n",
    "\n",
    "    #Comparing the true and predicted response values\n",
    "    comp_results=pd.DataFrame(y_test)\n",
    "    comp_results['predictions']=pred\n",
    "    comp_results=comp_results.sort_values(by='output',ascending=False)\n",
    "\n",
    "    #Calculating Confusion_Matrix and F1_score\n",
    "    TP=(comp_results.query('output==predictions and output==1')).shape[0]\n",
    "    TN=(comp_results.query('output==predictions and output==0')).shape[0]\n",
    "    FP=(comp_results.query('output!=predictions and output==0')).shape[0]\n",
    "    FN=(comp_results.query('output!=predictions and output==1')).shape[0]\n",
    "    ACC=(TP+TN)/y_test.shape[0]\n",
    "    SEN=TP/num_positives\n",
    "    ESP=TN/num_negatives\n",
    "    PREC=TP/(TP+FP)\n",
    "    F1_SCORE= 2 * (PREC * SEN) / (PREC + SEN)\n",
    "    print('F1 SCORE: ',F1_SCORE) #we calculated the same value than sklearn\n",
    "    #confusion matrix\n",
    "    CONFUSION_MATRIX=pd.DataFrame([TP,FN], columns=['POSITIVE CLASS'])\n",
    "    CONFUSION_MATRIX['NEGATIVE CLASS']=[FP,TN]\n",
    "    new_index=['Prediction POS','Prediction NEG']\n",
    "    CONFUSION_MATRIX=CONFUSION_MATRIX.set_index([new_index])\n",
    "    print('\\nConfusion Matrix:')\n",
    "    print(CONFUSION_MATRIX)\n",
    "\n",
    "    \n",
    "    \n",
    "    #PLOT ROC CURVE\n",
    "    from sklearn.metrics import roc_curve\n",
    "    from sklearn.metrics import roc_auc_score\n",
    "    from matplotlib import pyplot\n",
    "\n",
    "    fpr, tpr, thresholds = roc_curve(y_test, pred)\n",
    "    auc = roc_auc_score(y_test, pred)\n",
    "    \n",
    "    plt.figure()\n",
    "    plt.plot(fpr, tpr, color='darkorange', lw=1, label='ROC curve (area = %0.2f)' % auc)\n",
    "    plt.plot([0, 1], [0, 1], color='navy',  linestyle='--')\n",
    "    plt.xlim([0.0, 1.0])\n",
    "    plt.ylim([0.0, 1.05])\n",
    "    plt.xlabel('False Positive Rate')\n",
    "    plt.ylabel('True Positive Rate')\n",
    "    plt.title('Receiver Operating Characteristic')\n",
    "    plt.legend(loc=\"lower right\")\n",
    "    plt.show()"
   ]
  },
  {
   "cell_type": "code",
   "execution_count": 9,
   "metadata": {},
   "outputs": [],
   "source": [
    "df=df_scaled #We will working with the scaled data"
   ]
  },
  {
   "cell_type": "code",
   "execution_count": 10,
   "metadata": {},
   "outputs": [
    {
     "name": "stdout",
     "output_type": "stream",
     "text": [
      "Scores from scaled data using BernoulliNB Classifier: \n",
      "\n",
      "\n",
      "Test data: Examples positives: 28 and Examples negatives: 2\n",
      "f1_score:  0.9655172413793104\n",
      "accuracy_score:  0.9333333333333333\n",
      "recall_score:  1.0\n",
      "F1 SCORE:  0.9655172413793104\n",
      "\n",
      "Confusion Matrix:\n",
      "                POSITIVE CLASS  NEGATIVE CLASS\n",
      "Prediction POS              28               2\n",
      "Prediction NEG               0               0\n"
     ]
    },
    {
     "data": {
      "image/png": "[encoded data removed]",
      "text/plain": [
       "<Figure size 432x288 with 1 Axes>"
      ]
     },
     "metadata": {
      "needs_background": "light"
     },
     "output_type": "display_data"
    }
   ],
   "source": [
    "print('Scores from scaled data using BernoulliNB Classifier: \\n')\n",
    "train_validation_plot(df,y,'split',_,_,'BernoulliNB')"
   ]
  },
  {
   "cell_type": "markdown",
   "metadata": {},
   "source": [
    "We can see through the ROC curve that this classificator have not acceptable results, although f1_score, accuracy_score, recall_score and F1_SCORE have it. This classificator is predicting all values as Class 1.\n",
    "Now, we can apply some techniques for balancing classes and try to have better results, some techniques were presented of [Tara Boyle](https://towardsdatascience.com/methods-for-dealing-with-imbalanced-data-5b761be45a18)."
   ]
  },
  {
   "cell_type": "markdown",
   "metadata": {},
   "source": [
    "Now, using the algorithm RandomForestClassifier:"
   ]
  },
  {
   "cell_type": "code",
   "execution_count": 11,
   "metadata": {},
   "outputs": [
    {
     "name": "stdout",
     "output_type": "stream",
     "text": [
      "Scores from scaled data using RandomForestClassifier: \n",
      "\n",
      "\n",
      "Test data: Examples positives: 28 and Examples negatives: 2\n",
      "f1_score:  1.0\n",
      "accuracy_score:  1.0\n",
      "recall_score:  1.0\n",
      "F1 SCORE:  1.0\n",
      "\n",
      "Confusion Matrix:\n",
      "                POSITIVE CLASS  NEGATIVE CLASS\n",
      "Prediction POS              28               0\n",
      "Prediction NEG               0               2\n"
     ]
    },
    {
     "data": {
      "image/png": "[encoded data removed]",
      "text/plain": [
       "<Figure size 432x288 with 1 Axes>"
      ]
     },
     "metadata": {
      "needs_background": "light"
     },
     "output_type": "display_data"
    }
   ],
   "source": [
    "print('Scores from scaled data using RandomForestClassifier: \\n')\n",
    "train_validation_plot(df,y,'split',_,_,'RandomForestC')"
   ]
  },
  {
   "cell_type": "markdown",
   "metadata": {},
   "source": [
    "We can obtain better results with only use another algorithm, but we can try another techniques."
   ]
  },
  {
   "cell_type": "markdown",
   "metadata": {},
   "source": [
    "**resample**"
   ]
  },
  {
   "cell_type": "markdown",
   "metadata": {},
   "source": [
    "Adding more copies of the minority class."
   ]
  },
  {
   "cell_type": "code",
   "execution_count": 12,
   "metadata": {},
   "outputs": [
    {
     "name": "stdout",
     "output_type": "stream",
     "text": [
      "Balanced classes to train\n"
     ]
    },
    {
     "data": {
      "text/plain": [
       "1    60\n",
       "0    60\n",
       "Name: output, dtype: int64"
      ]
     },
     "execution_count": 12,
     "metadata": {},
     "output_type": "execute_result"
    }
   ],
   "source": [
    "\n",
    "from sklearn.utils import resample\n",
    "\n",
    "X_train, X_test, y_train, y_test = train_test_split(df, y, test_size=0.3, random_state=0)\n",
    "# concatenate our training data back together\n",
    "X = pd.concat([pd.DataFrame(X_train), pd.DataFrame(y_train)], axis=1)\n",
    "\n",
    "# separate minority and majority classes\n",
    "N = X[X.output==1]\n",
    "O = X[X.output==0]\n",
    "\n",
    "# upsample minority\n",
    "O_upsampled = resample(O, replace=True, # sample with replacement\n",
    "                          n_samples=len(N), # match number in majority class\n",
    "                          random_state=0) # reproducible results\n",
    "# combine majority and upsampled minority\n",
    "upsampled = pd.concat([N, O_upsampled])\n",
    "print('Balanced classes to train')\n",
    "# check new class counts\n",
    "upsampled.output.value_counts()"
   ]
  },
  {
   "cell_type": "code",
   "execution_count": 13,
   "metadata": {},
   "outputs": [
    {
     "name": "stdout",
     "output_type": "stream",
     "text": [
      "Scores from scaled data (adding more copies of the minority class) with RandomForestClassifier : \n",
      "\n",
      "\n",
      "Test data: Examples positives: 28 and Examples negatives: 2\n",
      "f1_score:  0.9433962264150945\n",
      "accuracy_score:  0.9\n",
      "recall_score:  0.8928571428571429\n",
      "F1 SCORE:  0.9433962264150945\n",
      "\n",
      "Confusion Matrix:\n",
      "                POSITIVE CLASS  NEGATIVE CLASS\n",
      "Prediction POS              25               0\n",
      "Prediction NEG               3               2\n"
     ]
    },
    {
     "data": {
      "image/png": "[encoded data removed]",
      "text/plain": [
       "<Figure size 432x288 with 1 Axes>"
      ]
     },
     "metadata": {
      "needs_background": "light"
     },
     "output_type": "display_data"
    }
   ],
   "source": [
    "y_aux=upsampled.output\n",
    "df_aux=upsampled.drop('output',axis=1)\n",
    "print('Scores from scaled data (adding more copies of the minority class) with RandomForestClassifier : \\n')\n",
    "train_validation_plot(df_aux,y_aux,'false',X_test,y_test,'RandomForestC')"
   ]
  },
  {
   "cell_type": "markdown",
   "metadata": {},
   "source": [
    "**Undersample majority class**"
   ]
  },
  {
   "cell_type": "markdown",
   "metadata": {},
   "source": [
    "Removing some observations of the majority class"
   ]
  },
  {
   "cell_type": "code",
   "execution_count": 14,
   "metadata": {},
   "outputs": [
    {
     "name": "stdout",
     "output_type": "stream",
     "text": [
      "Balanced classes to train\n"
     ]
    },
    {
     "data": {
      "text/plain": [
       "1    10\n",
       "0    10\n",
       "Name: output, dtype: int64"
      ]
     },
     "execution_count": 14,
     "metadata": {},
     "output_type": "execute_result"
    }
   ],
   "source": [
    "N_downsampled = resample(N, replace = False, # sample without replacement\n",
    "                            n_samples = len(O), # match minority n\n",
    "                            random_state = 0) # reproducible results\n",
    "# combine minority and downsampled majority\n",
    "downsampled = pd.concat([N_downsampled, O])\n",
    "print('Balanced classes to train')\n",
    "# checking counts\n",
    "downsampled.output.value_counts()"
   ]
  },
  {
   "cell_type": "code",
   "execution_count": 15,
   "metadata": {},
   "outputs": [
    {
     "name": "stdout",
     "output_type": "stream",
     "text": [
      "Scores from scaled data (removing some observations of the majority class) with RandomForestClassifier \n",
      "\n",
      "\n",
      "Test data: Examples positives: 28 and Examples negatives: 2\n",
      "f1_score:  0.6\n",
      "accuracy_score:  0.4666666666666667\n",
      "recall_score:  0.42857142857142855\n",
      "F1 SCORE:  0.6\n",
      "\n",
      "Confusion Matrix:\n",
      "                POSITIVE CLASS  NEGATIVE CLASS\n",
      "Prediction POS              12               0\n",
      "Prediction NEG              16               2\n"
     ]
    },
    {
     "data": {
      "image/png": "[encoded data removed]",
      "text/plain": [
       "<Figure size 432x288 with 1 Axes>"
      ]
     },
     "metadata": {
      "needs_background": "light"
     },
     "output_type": "display_data"
    }
   ],
   "source": [
    "y_aux2=downsampled.output\n",
    "df_aux2=downsampled.drop('output',axis=1)\n",
    "print('Scores from scaled data (removing some observations of the majority class) with RandomForestClassifier \\n')\n",
    "train_validation_plot(df_aux2,y_aux2,'false',X_test,y_test,'RandomForestC')"
   ]
  },
  {
   "cell_type": "markdown",
   "metadata": {},
   "source": [
    "**SMOTE**"
   ]
  },
  {
   "cell_type": "code",
   "execution_count": 16,
   "metadata": {},
   "outputs": [
    {
     "name": "stderr",
     "output_type": "stream",
     "text": [
      "Using TensorFlow backend.\n"
     ]
    },
    {
     "name": "stdout",
     "output_type": "stream",
     "text": [
      "balanced clases to train\n",
      "1    60\n",
      "0    60\n",
      "Name: 0, dtype: int64\n",
      "\n",
      "Test data: Examples positives: 28 and Examples negatives: 2\n",
      "f1_score:  0.8846153846153847\n",
      "accuracy_score:  0.8\n",
      "recall_score:  0.8214285714285714\n",
      "F1 SCORE:  0.8846153846153847\n",
      "\n",
      "Confusion Matrix:\n",
      "                POSITIVE CLASS  NEGATIVE CLASS\n",
      "Prediction POS              23               1\n",
      "Prediction NEG               5               1\n"
     ]
    },
    {
     "data": {
      "image/png": "[encoded data removed]",
      "text/plain": [
       "<Figure size 432x288 with 1 Axes>"
      ]
     },
     "metadata": {
      "needs_background": "light"
     },
     "output_type": "display_data"
    }
   ],
   "source": [
    "#A technique similar to upsampling is to create synthetic samples. Here we will use imblearn’s SMOTE or Synthetic Minority Oversampling Technique. SMOTE uses a nearest neighbors algorithm to generate new and synthetic data we can use for training our model.\n",
    "#Again, it’s important to generate the new samples only in the training set to ensure our model generalizes well to unseen data.\n",
    "\n",
    "from imblearn.over_sampling import SMOTE\n",
    "#df=pd.read_csv('data/fertility.csv',header=None)\n",
    "#df=df.rename(columns={9:'output'})\n",
    "\n",
    "# Separate input features and target\n",
    "#y = df['output'].replace('N',1).replace('O',0)\n",
    "#X = df.drop('output', axis=1)\n",
    "X_aux=df_scaled\n",
    "y_aux=targets\n",
    "\n",
    "# setting up testing and training sets\n",
    "X_train2, X_test2, y_train2, y_test2 = train_test_split(X_aux, y_aux, test_size=0.3, random_state=27)\n",
    "\n",
    "sm = SMOTE(random_state=0, ratio=1.0)\n",
    "X_train2, y_train2 = sm.fit_sample(X_train2, y_train2)\n",
    "\n",
    "print('balanced clases to train')\n",
    "y_train2=pd.DataFrame(y_train2)\n",
    "print(y_train2[0].value_counts())#checking counts\n",
    "\n",
    "train_validation_plot(X_train2,y_train2,'false',X_test2,y_test2,'RandomForestC')"
   ]
  }
 ],
 "metadata": {
  "kernelspec": {
   "display_name": "Python 3",
   "language": "python",
   "name": "python3"
  },
  "language_info": {
   "codemirror_mode": {
    "name": "ipython",
    "version": 3
   },
   "file_extension": ".py",
   "mimetype": "text/x-python",
   "name": "python",
   "nbconvert_exporter": "python",
   "pygments_lexer": "ipython3",
   "version": "3.7.3"
  }
 },
 "nbformat": 4,
 "nbformat_minor": 2
}
